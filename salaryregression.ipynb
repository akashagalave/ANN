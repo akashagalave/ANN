{
 "cells": [
  {
   "cell_type": "code",
   "execution_count": 36,
   "metadata": {},
   "outputs": [],
   "source": [
    "import pandas as pd \n",
    "from sklearn.model_selection import train_test_split\n",
    "from sklearn.preprocessing import StandardScaler,LabelEncoder,OneHotEncoder\n",
    "import pickle\n"
   ]
  },
  {
   "cell_type": "code",
   "execution_count": 37,
   "metadata": {},
   "outputs": [
    {
     "data": {
      "text/html": [
       "<div>\n",
       "<style scoped>\n",
       "    .dataframe tbody tr th:only-of-type {\n",
       "        vertical-align: middle;\n",
       "    }\n",
       "\n",
       "    .dataframe tbody tr th {\n",
       "        vertical-align: top;\n",
       "    }\n",
       "\n",
       "    .dataframe thead th {\n",
       "        text-align: right;\n",
       "    }\n",
       "</style>\n",
       "<table border=\"1\" class=\"dataframe\">\n",
       "  <thead>\n",
       "    <tr style=\"text-align: right;\">\n",
       "      <th></th>\n",
       "      <th>RowNumber</th>\n",
       "      <th>CustomerId</th>\n",
       "      <th>Surname</th>\n",
       "      <th>CreditScore</th>\n",
       "      <th>Geography</th>\n",
       "      <th>Gender</th>\n",
       "      <th>Age</th>\n",
       "      <th>Tenure</th>\n",
       "      <th>Balance</th>\n",
       "      <th>NumOfProducts</th>\n",
       "      <th>HasCrCard</th>\n",
       "      <th>IsActiveMember</th>\n",
       "      <th>EstimatedSalary</th>\n",
       "      <th>Exited</th>\n",
       "    </tr>\n",
       "  </thead>\n",
       "  <tbody>\n",
       "    <tr>\n",
       "      <th>0</th>\n",
       "      <td>1</td>\n",
       "      <td>15634602</td>\n",
       "      <td>Hargrave</td>\n",
       "      <td>619</td>\n",
       "      <td>France</td>\n",
       "      <td>Female</td>\n",
       "      <td>42</td>\n",
       "      <td>2</td>\n",
       "      <td>0.00</td>\n",
       "      <td>1</td>\n",
       "      <td>1</td>\n",
       "      <td>1</td>\n",
       "      <td>101348.88</td>\n",
       "      <td>1</td>\n",
       "    </tr>\n",
       "    <tr>\n",
       "      <th>1</th>\n",
       "      <td>2</td>\n",
       "      <td>15647311</td>\n",
       "      <td>Hill</td>\n",
       "      <td>608</td>\n",
       "      <td>Spain</td>\n",
       "      <td>Female</td>\n",
       "      <td>41</td>\n",
       "      <td>1</td>\n",
       "      <td>83807.86</td>\n",
       "      <td>1</td>\n",
       "      <td>0</td>\n",
       "      <td>1</td>\n",
       "      <td>112542.58</td>\n",
       "      <td>0</td>\n",
       "    </tr>\n",
       "    <tr>\n",
       "      <th>2</th>\n",
       "      <td>3</td>\n",
       "      <td>15619304</td>\n",
       "      <td>Onio</td>\n",
       "      <td>502</td>\n",
       "      <td>France</td>\n",
       "      <td>Female</td>\n",
       "      <td>42</td>\n",
       "      <td>8</td>\n",
       "      <td>159660.80</td>\n",
       "      <td>3</td>\n",
       "      <td>1</td>\n",
       "      <td>0</td>\n",
       "      <td>113931.57</td>\n",
       "      <td>1</td>\n",
       "    </tr>\n",
       "    <tr>\n",
       "      <th>3</th>\n",
       "      <td>4</td>\n",
       "      <td>15701354</td>\n",
       "      <td>Boni</td>\n",
       "      <td>699</td>\n",
       "      <td>France</td>\n",
       "      <td>Female</td>\n",
       "      <td>39</td>\n",
       "      <td>1</td>\n",
       "      <td>0.00</td>\n",
       "      <td>2</td>\n",
       "      <td>0</td>\n",
       "      <td>0</td>\n",
       "      <td>93826.63</td>\n",
       "      <td>0</td>\n",
       "    </tr>\n",
       "    <tr>\n",
       "      <th>4</th>\n",
       "      <td>5</td>\n",
       "      <td>15737888</td>\n",
       "      <td>Mitchell</td>\n",
       "      <td>850</td>\n",
       "      <td>Spain</td>\n",
       "      <td>Female</td>\n",
       "      <td>43</td>\n",
       "      <td>2</td>\n",
       "      <td>125510.82</td>\n",
       "      <td>1</td>\n",
       "      <td>1</td>\n",
       "      <td>1</td>\n",
       "      <td>79084.10</td>\n",
       "      <td>0</td>\n",
       "    </tr>\n",
       "  </tbody>\n",
       "</table>\n",
       "</div>"
      ],
      "text/plain": [
       "   RowNumber  CustomerId   Surname  ...  IsActiveMember EstimatedSalary Exited\n",
       "0          1    15634602  Hargrave  ...               1       101348.88      1\n",
       "1          2    15647311      Hill  ...               1       112542.58      0\n",
       "2          3    15619304      Onio  ...               0       113931.57      1\n",
       "3          4    15701354      Boni  ...               0        93826.63      0\n",
       "4          5    15737888  Mitchell  ...               1        79084.10      0\n",
       "\n",
       "[5 rows x 14 columns]"
      ]
     },
     "execution_count": 37,
     "metadata": {},
     "output_type": "execute_result"
    }
   ],
   "source": [
    "data = pd.read_csv('Churn_Modelling.csv')\n",
    "data.head()"
   ]
  },
  {
   "cell_type": "code",
   "execution_count": 38,
   "metadata": {},
   "outputs": [],
   "source": [
    "data=data.drop(['RowNumber','CustomerId','Surname'],axis=1)"
   ]
  },
  {
   "cell_type": "code",
   "execution_count": 39,
   "metadata": {},
   "outputs": [],
   "source": [
    "le=LabelEncoder()\n",
    "data['Gender']=le.fit_transform(data['Gender'])"
   ]
  },
  {
   "cell_type": "code",
   "execution_count": 40,
   "metadata": {},
   "outputs": [],
   "source": [
    "from sklearn.preprocessing import OneHotEncoder\n",
    "ohe=OneHotEncoder()\n",
    "ohe_encoder=ohe.fit_transform(data[['Geography']])\n",
    "ohe_df=pd.DataFrame(ohe_encoder.toarray(),columns=ohe.get_feature_names_out())"
   ]
  },
  {
   "cell_type": "code",
   "execution_count": 41,
   "metadata": {},
   "outputs": [
    {
     "data": {
      "text/html": [
       "<div>\n",
       "<style scoped>\n",
       "    .dataframe tbody tr th:only-of-type {\n",
       "        vertical-align: middle;\n",
       "    }\n",
       "\n",
       "    .dataframe tbody tr th {\n",
       "        vertical-align: top;\n",
       "    }\n",
       "\n",
       "    .dataframe thead th {\n",
       "        text-align: right;\n",
       "    }\n",
       "</style>\n",
       "<table border=\"1\" class=\"dataframe\">\n",
       "  <thead>\n",
       "    <tr style=\"text-align: right;\">\n",
       "      <th></th>\n",
       "      <th>CreditScore</th>\n",
       "      <th>Gender</th>\n",
       "      <th>Age</th>\n",
       "      <th>Tenure</th>\n",
       "      <th>Balance</th>\n",
       "      <th>NumOfProducts</th>\n",
       "      <th>HasCrCard</th>\n",
       "      <th>IsActiveMember</th>\n",
       "      <th>EstimatedSalary</th>\n",
       "      <th>Exited</th>\n",
       "      <th>Geography_France</th>\n",
       "      <th>Geography_Germany</th>\n",
       "      <th>Geography_Spain</th>\n",
       "    </tr>\n",
       "  </thead>\n",
       "  <tbody>\n",
       "    <tr>\n",
       "      <th>0</th>\n",
       "      <td>619</td>\n",
       "      <td>0</td>\n",
       "      <td>42</td>\n",
       "      <td>2</td>\n",
       "      <td>0.00</td>\n",
       "      <td>1</td>\n",
       "      <td>1</td>\n",
       "      <td>1</td>\n",
       "      <td>101348.88</td>\n",
       "      <td>1</td>\n",
       "      <td>1.0</td>\n",
       "      <td>0.0</td>\n",
       "      <td>0.0</td>\n",
       "    </tr>\n",
       "    <tr>\n",
       "      <th>1</th>\n",
       "      <td>608</td>\n",
       "      <td>0</td>\n",
       "      <td>41</td>\n",
       "      <td>1</td>\n",
       "      <td>83807.86</td>\n",
       "      <td>1</td>\n",
       "      <td>0</td>\n",
       "      <td>1</td>\n",
       "      <td>112542.58</td>\n",
       "      <td>0</td>\n",
       "      <td>0.0</td>\n",
       "      <td>0.0</td>\n",
       "      <td>1.0</td>\n",
       "    </tr>\n",
       "    <tr>\n",
       "      <th>2</th>\n",
       "      <td>502</td>\n",
       "      <td>0</td>\n",
       "      <td>42</td>\n",
       "      <td>8</td>\n",
       "      <td>159660.80</td>\n",
       "      <td>3</td>\n",
       "      <td>1</td>\n",
       "      <td>0</td>\n",
       "      <td>113931.57</td>\n",
       "      <td>1</td>\n",
       "      <td>1.0</td>\n",
       "      <td>0.0</td>\n",
       "      <td>0.0</td>\n",
       "    </tr>\n",
       "    <tr>\n",
       "      <th>3</th>\n",
       "      <td>699</td>\n",
       "      <td>0</td>\n",
       "      <td>39</td>\n",
       "      <td>1</td>\n",
       "      <td>0.00</td>\n",
       "      <td>2</td>\n",
       "      <td>0</td>\n",
       "      <td>0</td>\n",
       "      <td>93826.63</td>\n",
       "      <td>0</td>\n",
       "      <td>1.0</td>\n",
       "      <td>0.0</td>\n",
       "      <td>0.0</td>\n",
       "    </tr>\n",
       "    <tr>\n",
       "      <th>4</th>\n",
       "      <td>850</td>\n",
       "      <td>0</td>\n",
       "      <td>43</td>\n",
       "      <td>2</td>\n",
       "      <td>125510.82</td>\n",
       "      <td>1</td>\n",
       "      <td>1</td>\n",
       "      <td>1</td>\n",
       "      <td>79084.10</td>\n",
       "      <td>0</td>\n",
       "      <td>0.0</td>\n",
       "      <td>0.0</td>\n",
       "      <td>1.0</td>\n",
       "    </tr>\n",
       "  </tbody>\n",
       "</table>\n",
       "</div>"
      ],
      "text/plain": [
       "   CreditScore  Gender  ...  Geography_Germany  Geography_Spain\n",
       "0          619       0  ...                0.0              0.0\n",
       "1          608       0  ...                0.0              1.0\n",
       "2          502       0  ...                0.0              0.0\n",
       "3          699       0  ...                0.0              0.0\n",
       "4          850       0  ...                0.0              1.0\n",
       "\n",
       "[5 rows x 13 columns]"
      ]
     },
     "execution_count": 41,
     "metadata": {},
     "output_type": "execute_result"
    }
   ],
   "source": [
    "data=pd.concat([data.drop('Geography',axis=1),ohe_df],axis=1)\n",
    "data.head()"
   ]
  },
  {
   "cell_type": "code",
   "execution_count": 42,
   "metadata": {},
   "outputs": [],
   "source": [
    "X = data.drop('EstimatedSalary',axis=1)\n",
    "y=data['EstimatedSalary']"
   ]
  },
  {
   "cell_type": "code",
   "execution_count": 43,
   "metadata": {},
   "outputs": [],
   "source": [
    "X_train,X_test,y_train,y_test=train_test_split(X,y,test_size=0.2,random_state=42)\n",
    "\n",
    "scaler=StandardScaler()\n",
    "X_train=scaler.fit_transform(X_train)\n",
    "X_test=scaler.transform(X_test)"
   ]
  },
  {
   "cell_type": "code",
   "execution_count": 44,
   "metadata": {},
   "outputs": [],
   "source": [
    "with open('label_encoder.pkl','wb') as file:\n",
    "    pickle.dump(le,file)\n",
    "\n",
    "with open('ohe_encoder.pkl','wb') as file:\n",
    "    pickle.dump(ohe,file)\n",
    "\n",
    "\n",
    "with open('scaler.pkl','wb') as file:\n",
    "    pickle.dump(scaler,file)"
   ]
  },
  {
   "cell_type": "code",
   "execution_count": 45,
   "metadata": {},
   "outputs": [],
   "source": [
    "import tensorflow as tf\n",
    "from tensorflow.keras.models import Sequential\n",
    "from tensorflow.keras.layers import Dense\n"
   ]
  },
  {
   "cell_type": "code",
   "execution_count": 46,
   "metadata": {},
   "outputs": [
    {
     "name": "stdout",
     "output_type": "stream",
     "text": [
      "Model: \"sequential_2\"\n",
      "_________________________________________________________________\n",
      " Layer (type)                Output Shape              Param #   \n",
      "=================================================================\n",
      " dense_6 (Dense)             (None, 64)                832       \n",
      "                                                                 \n",
      " dense_7 (Dense)             (None, 32)                2080      \n",
      "                                                                 \n",
      " dense_8 (Dense)             (None, 1)                 33        \n",
      "                                                                 \n",
      "=================================================================\n",
      "Total params: 2945 (11.50 KB)\n",
      "Trainable params: 2945 (11.50 KB)\n",
      "Non-trainable params: 0 (0.00 Byte)\n",
      "_________________________________________________________________\n"
     ]
    }
   ],
   "source": [
    "model = Sequential([\n",
    "    Dense(64,activation='relu',input_shape=(X_train.shape[1],)),\n",
    "    Dense(32,activation='relu'),\n",
    "    Dense(1)\n",
    "])\n",
    "\n",
    "\n",
    "model.compile(optimizer='adam',loss='mean_absolute_error',metrics=['mae'])\n",
    "model.summary()"
   ]
  },
  {
   "cell_type": "code",
   "execution_count": 47,
   "metadata": {},
   "outputs": [],
   "source": [
    "from tensorflow.keras.callbacks import EarlyStopping,TensorBoard\n",
    "import datetime"
   ]
  },
  {
   "cell_type": "code",
   "execution_count": 48,
   "metadata": {},
   "outputs": [],
   "source": [
    "log_dir=\"logs/fits\" +datetime.datetime.now().strftime(\"%Y%m%d-%H%M%S\")\n",
    "tensoflow_callback=TensorBoard(log_dir=log_dir,histogram_freq=1)\n",
    "early_stopping=EarlyStopping(monitor='val_loss',patience=5,restore_best_weights=True)\n"
   ]
  },
  {
   "cell_type": "code",
   "execution_count": 49,
   "metadata": {},
   "outputs": [
    {
     "name": "stdout",
     "output_type": "stream",
     "text": [
      "Epoch 1/100\n",
      "250/250 [==============================] - 2s 4ms/step - loss: 100354.3281 - mae: 100354.3281 - val_loss: 98430.6641 - val_mae: 98430.6641\n",
      "Epoch 2/100\n",
      "250/250 [==============================] - 1s 3ms/step - loss: 99317.9766 - mae: 99317.9766 - val_loss: 96369.8047 - val_mae: 96369.8047\n",
      "Epoch 3/100\n",
      "250/250 [==============================] - 1s 2ms/step - loss: 95777.8594 - mae: 95777.8594 - val_loss: 91260.2266 - val_mae: 91260.2266\n",
      "Epoch 4/100\n",
      "250/250 [==============================] - 1s 3ms/step - loss: 89023.2344 - mae: 89023.2344 - val_loss: 83018.4375 - val_mae: 83018.4375\n",
      "Epoch 5/100\n",
      "250/250 [==============================] - 1s 2ms/step - loss: 79590.1562 - mae: 79590.1562 - val_loss: 73055.5703 - val_mae: 73055.5703\n",
      "Epoch 6/100\n",
      "250/250 [==============================] - 1s 3ms/step - loss: 69396.4531 - mae: 69396.4531 - val_loss: 63667.0117 - val_mae: 63667.0117\n",
      "Epoch 7/100\n",
      "250/250 [==============================] - 1s 3ms/step - loss: 60559.1680 - mae: 60559.1680 - val_loss: 56610.5938 - val_mae: 56610.5938\n",
      "Epoch 8/100\n",
      "250/250 [==============================] - 1s 2ms/step - loss: 54696.3125 - mae: 54696.3125 - val_loss: 52530.8672 - val_mae: 52530.8672\n",
      "Epoch 9/100\n",
      "250/250 [==============================] - 1s 4ms/step - loss: 51760.5625 - mae: 51760.5625 - val_loss: 50933.6016 - val_mae: 50933.6016\n",
      "Epoch 10/100\n",
      "250/250 [==============================] - 1s 3ms/step - loss: 50616.5352 - mae: 50616.5352 - val_loss: 50475.6328 - val_mae: 50475.6328\n",
      "Epoch 11/100\n",
      "250/250 [==============================] - 1s 3ms/step - loss: 50214.5781 - mae: 50214.5781 - val_loss: 50373.6523 - val_mae: 50373.6523\n",
      "Epoch 12/100\n",
      "250/250 [==============================] - 1s 3ms/step - loss: 50077.5977 - mae: 50077.5977 - val_loss: 50341.0938 - val_mae: 50341.0938\n",
      "Epoch 13/100\n",
      "250/250 [==============================] - 1s 2ms/step - loss: 50017.0391 - mae: 50017.0391 - val_loss: 50326.1367 - val_mae: 50326.1367\n",
      "Epoch 14/100\n",
      "250/250 [==============================] - 1s 3ms/step - loss: 49971.8203 - mae: 49971.8203 - val_loss: 50300.1602 - val_mae: 50300.1602\n",
      "Epoch 15/100\n",
      "250/250 [==============================] - 1s 4ms/step - loss: 49934.8125 - mae: 49934.8125 - val_loss: 50284.5664 - val_mae: 50284.5664\n",
      "Epoch 16/100\n",
      "250/250 [==============================] - 1s 2ms/step - loss: 49903.0781 - mae: 49903.0781 - val_loss: 50269.5234 - val_mae: 50269.5234\n",
      "Epoch 17/100\n",
      "250/250 [==============================] - 1s 2ms/step - loss: 49876.5586 - mae: 49876.5586 - val_loss: 50252.6523 - val_mae: 50252.6523\n",
      "Epoch 18/100\n",
      "250/250 [==============================] - 1s 2ms/step - loss: 49850.1016 - mae: 49850.1016 - val_loss: 50242.8438 - val_mae: 50242.8438\n",
      "Epoch 19/100\n",
      "250/250 [==============================] - 1s 2ms/step - loss: 49823.0469 - mae: 49823.0469 - val_loss: 50239.3828 - val_mae: 50239.3828\n",
      "Epoch 20/100\n",
      "250/250 [==============================] - 1s 2ms/step - loss: 49803.6328 - mae: 49803.6328 - val_loss: 50233.5859 - val_mae: 50233.5859\n",
      "Epoch 21/100\n",
      "250/250 [==============================] - 1s 2ms/step - loss: 49778.2930 - mae: 49778.2930 - val_loss: 50237.1953 - val_mae: 50237.1953\n",
      "Epoch 22/100\n",
      "250/250 [==============================] - 1s 2ms/step - loss: 49759.8594 - mae: 49759.8594 - val_loss: 50226.6875 - val_mae: 50226.6875\n",
      "Epoch 23/100\n",
      "250/250 [==============================] - 1s 2ms/step - loss: 49746.8203 - mae: 49746.8203 - val_loss: 50221.2539 - val_mae: 50221.2539\n",
      "Epoch 24/100\n",
      "250/250 [==============================] - 1s 2ms/step - loss: 49724.6445 - mae: 49724.6445 - val_loss: 50230.1016 - val_mae: 50230.1016\n",
      "Epoch 25/100\n",
      "250/250 [==============================] - 1s 2ms/step - loss: 49711.6602 - mae: 49711.6602 - val_loss: 50222.1055 - val_mae: 50222.1055\n",
      "Epoch 26/100\n",
      "250/250 [==============================] - 1s 2ms/step - loss: 49689.8398 - mae: 49689.8398 - val_loss: 50204.6133 - val_mae: 50204.6133\n",
      "Epoch 27/100\n",
      "250/250 [==============================] - 1s 2ms/step - loss: 49672.3945 - mae: 49672.3945 - val_loss: 50216.8867 - val_mae: 50216.8867\n",
      "Epoch 28/100\n",
      "250/250 [==============================] - 0s 2ms/step - loss: 49663.9297 - mae: 49663.9297 - val_loss: 50201.9102 - val_mae: 50201.9102\n",
      "Epoch 29/100\n",
      "250/250 [==============================] - 1s 2ms/step - loss: 49646.9922 - mae: 49646.9922 - val_loss: 50191.7383 - val_mae: 50191.7383\n",
      "Epoch 30/100\n",
      "250/250 [==============================] - 0s 2ms/step - loss: 49636.7266 - mae: 49636.7266 - val_loss: 50194.1953 - val_mae: 50194.1953\n",
      "Epoch 31/100\n",
      "250/250 [==============================] - 0s 2ms/step - loss: 49621.3359 - mae: 49621.3359 - val_loss: 50197.4414 - val_mae: 50197.4414\n",
      "Epoch 32/100\n",
      "250/250 [==============================] - 1s 2ms/step - loss: 49611.0938 - mae: 49611.0938 - val_loss: 50214.4727 - val_mae: 50214.4727\n",
      "Epoch 33/100\n",
      "250/250 [==============================] - 1s 3ms/step - loss: 49598.5195 - mae: 49598.5195 - val_loss: 50210.7734 - val_mae: 50210.7734\n",
      "Epoch 34/100\n",
      "250/250 [==============================] - 1s 2ms/step - loss: 49583.3477 - mae: 49583.3477 - val_loss: 50198.8867 - val_mae: 50198.8867\n"
     ]
    }
   ],
   "source": [
    "history=model.fit(X_train,y_train,validation_data=(X_test,y_test),epochs=100,callbacks=[tensoflow_callback,early_stopping])"
   ]
  },
  {
   "cell_type": "code",
   "execution_count": 50,
   "metadata": {},
   "outputs": [
    {
     "name": "stdout",
     "output_type": "stream",
     "text": [
      "63/63 [==============================] - 0s 2ms/step - loss: 50191.7383 - mae: 50191.7383\n",
      "Test MAE:50191.73828125\n"
     ]
    }
   ],
   "source": [
    "test_loss,test_mae=model.evaluate(X_test,y_test)\n",
    "print(f'Test MAE:{test_mae}')"
   ]
  },
  {
   "cell_type": "code",
   "execution_count": 51,
   "metadata": {},
   "outputs": [
    {
     "name": "stderr",
     "output_type": "stream",
     "text": [
      "c:\\Users\\akash\\OneDrive\\Desktop\\ANN ClASSIFICATION\\venv\\Lib\\site-packages\\keras\\src\\engine\\training.py:3103: UserWarning: You are saving your model as an HDF5 file via `model.save()`. This file format is considered legacy. We recommend using instead the native Keras format, e.g. `model.save('my_model.keras')`.\n",
      "  saving_api.save_model(\n"
     ]
    }
   ],
   "source": [
    "model.save('akash.h5')"
   ]
  },
  {
   "cell_type": "code",
   "execution_count": null,
   "metadata": {},
   "outputs": [],
   "source": []
  },
  {
   "cell_type": "code",
   "execution_count": null,
   "metadata": {},
   "outputs": [],
   "source": []
  }
 ],
 "metadata": {
  "kernelspec": {
   "display_name": "Python 3",
   "language": "python",
   "name": "python3"
  },
  "language_info": {
   "codemirror_mode": {
    "name": "ipython",
    "version": 3
   },
   "file_extension": ".py",
   "mimetype": "text/x-python",
   "name": "python",
   "nbconvert_exporter": "python",
   "pygments_lexer": "ipython3",
   "version": "3.11.0"
  }
 },
 "nbformat": 4,
 "nbformat_minor": 2
}
